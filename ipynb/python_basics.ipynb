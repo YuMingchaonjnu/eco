{
  "cells": [
    {
      "cell_type": "markdown",
      "metadata": {},
      "source": [
        "# Python基础操作\n",
        "\n",
        "本部分内容回顾了Python的一些基本操作。\n",
        "\n",
        "## 变量与数据类型\n",
        "\n",
        "变量是用来存储数据的“容器”，可以赋不同类型的值。Python常见数据类型有：整数(int)、浮点数(float)、字符串(str)、布尔(bool)等。\n",
        "\n",
        "### 变量赋值\n",
        "\n",
        "变量赋值把一个具体的值存储到一个变量中，方便后续使用和操作。要注意变量命名的规则：\n",
        "\n",
        "  - 变量名只能包含字母、数字和下划线，且不能以数字开头\n",
        "  - 区分大小写（如：age 和 Age 是不同变量）\n",
        "  - 不可使用Python关键字作为变量名（如：if, for, class 等）\n",
        "  - 建议使用有意义的英文单词，遵循小写加下划线的风格（如：student_name）"
      ]
    },
    {
      "cell_type": "code",
      "metadata": {},
      "source": [
        "# 正确的变量命名\n",
        "name = \"小南狮\"\n",
        "age = 20\n",
        "score_1 = 95.5\n",
        "is_passed = True\n",
        "两省一市 = ['江苏省', '上海市', '浙江省']"
      ],
      "execution_count": null,
      "outputs": []
    },
    {
      "cell_type": "markdown",
      "metadata": {},
      "source": [
        "\"`#`\"在这里表示符号后的内容为注释。\n",
        "\n",
        "如果命名方式不符合要求，软件将返回错误。将下面列子的`#`去掉，试运行语句，看提示的错误类型是什么？"
      ]
    },
    {
      "cell_type": "code",
      "metadata": {},
      "source": [
        "# 1student = \"Bob\"      # 不能以数字开头\n",
        "# class = \"Math\"        # 不能使用关键字\n",
        "# student-name = \"Tom\"  # 不能包含减号\n",
        "# t&2 = 30              # 特殊符号"
      ],
      "execution_count": null,
      "outputs": []
    },
    {
      "cell_type": "markdown",
      "metadata": {},
      "source": [
        "### 保留关键词\n",
        "上面的`class`，属于软件内部保留的33个关键词之一，注意在命名时应避免与关键词冲突："
      ]
    },
    {
      "cell_type": "code",
      "metadata": {},
      "source": [
        "import keyword\n",
        "print(keyword.kwlist)"
      ],
      "execution_count": null,
      "outputs": []
    },
    {
      "cell_type": "markdown",
      "metadata": {},
      "source": [
        "### 常见数据类型：\n",
        "\n",
        "**整数**（int）：用于表示整数类型的数据。\n",
        "\n",
        "可以通过`type()`函数查看一个对象的类型。"
      ]
    },
    {
      "cell_type": "code",
      "metadata": {},
      "source": [
        "a = -5\n",
        "print(type(a))  # <class 'int'>\n",
        "#\n",
        "b = 10\n",
        "c = b/a\n",
        "type(c)"
      ],
      "execution_count": null,
      "outputs": []
    },
    {
      "cell_type": "markdown",
      "metadata": {},
      "source": [
        "**浮点数**（float）：用于表示带小数点的数值"
      ]
    },
    {
      "cell_type": "code",
      "metadata": {},
      "source": [
        "pi = 3.14159\n",
        "radius = 1.75\n",
        "area = pi * radius **2\n",
        "print(type(pi))     # <class 'float'>\n",
        "print(f\"圆的面积为：{area:.3f}。\")"
      ],
      "execution_count": null,
      "outputs": []
    },
    {
      "cell_type": "markdown",
      "metadata": {},
      "source": [
        "**字符串**（str）：用于表示文本数据\n",
        "\n",
        "可以用双引号`\" \"`或者 单引号`' '`定义字符串。当字符串较长时，可以用三引号`\"\"\" \"\"\"\"`进行定义。例如："
      ]
    },
    {
      "cell_type": "code",
      "metadata": {},
      "source": [
        "variable = \"国内生产总值\"\n",
        "greeting = 'Hello, world!'\n",
        "sentence = \"Python's syntax is easy to learn.\"\n",
        "multiline = \"\"\"这个句子\n",
        "被我\n",
        "分成了几行。这样\n",
        "看起来，像诗一样。\n",
        "\"\"\"\n",
        "\n",
        "print(type(variable))  # <class 'str'>\n",
        "print(greeting)\n",
        "print(sentence)\n",
        "print(multiline)"
      ],
      "execution_count": null,
      "outputs": []
    },
    {
      "cell_type": "markdown",
      "metadata": {},
      "source": [
        "字符串有许多属性和方法，如 @tbl-string-methods 所示：\n",
        "\n",
        "| 方法 | 功能说明 | 示例 |\n",
        "|------|-----------|------|\n",
        "| `s.lower()` | 转换为小写 | `\"Hello\".lower()` → `\"hello\"` |\n",
        "| `s.upper()` | 转换为大写 | `\"hello\".upper()` → `\"HELLO\"` |\n",
        "| `s.capitalize()` | 首字母大写，其余小写 | `\"hello world\".capitalize()` → `\"Hello world\"` |\n",
        "| `s.title()` | 每个单词首字母大写 | `\"hello world\".title()` → `\"Hello World\"` |\n",
        "| `s.strip()` | 去除字符串首尾空白字符 | `\"  hello  \".strip()` → `\"hello\"` |\n",
        "| `s.lstrip()` | 去除左侧空白 | `\"  hello\".lstrip()` → `\"hello\"` |\n",
        "| `s.rstrip()` | 去除右侧空白 | `\"hello  \".rstrip()` → `\"hello\"` |\n",
        "| `s.replace(old, new)` | 替换子串 | `\"banana\".replace(\"a\", \"o\")` → `\"bonono\"` |\n",
        "| `s.find(sub)` | 查找子串位置，找不到返回 `-1` | `\"hello\".find(\"l\")` → `2` |\n",
        "| `s.count(sub)` | 统计子串出现次数 | `\"banana\".count(\"a\")` → `3` |\n",
        "| `s.startswith(prefix)` | 是否以指定前缀开头 | `\"hello\".startswith(\"he\")` → `True` |\n",
        "| `s.endswith(suffix)` | 是否以指定后缀结尾 | `\"hello\".endswith(\"lo\")` → `True` |\n",
        "| `s.split(sep)` | 按分隔符拆分字符串 | `\"a,b,c\".split(\",\")` → `[\"a\", \"b\", \"c\"]` |\n",
        "| `sep.join(iterable)` | 使用分隔符连接字符串序列 | `\",\".join([\"a\", \"b\", \"c\"])` → `\"a,b,c\"` |\n",
        "\n",
        ": 常见的字符串方法 {#tbl-string-methods}\n",
        "\n",
        "注意，当对字符串使用某一方法时，虽然结果显示了变化，并没有改变原本对字符串。如果要保存结果可以赋值。"
      ]
    },
    {
      "cell_type": "code",
      "metadata": {},
      "source": [
        "# 例：将日期字符串按“-”分割成年、月、日\n",
        "date_str = \"2024-06-01\"\n",
        "parts = date_str.split(\"-\")\n",
        "year, month, day = parts\n",
        "print(f\"年份：{year}，月份：{month}，日期：{day}\")\n",
        "\n",
        "# 例：用join方法将列表中的单词拼接成一句话\n",
        "words = [\"Python\", \"is\", \"fun\"]\n",
        "sentence = \"$#$_\".join(words)\n",
        "print(sentence) "
      ],
      "execution_count": null,
      "outputs": []
    },
    {
      "cell_type": "markdown",
      "metadata": {},
      "source": [
        "**布林类型**（bool）：只有True和False两个值，常用于条件判断"
      ]
    },
    {
      "cell_type": "code",
      "metadata": {},
      "source": [
        "name = \"Jane\"\n",
        "age = 20\n",
        "score = 57\n",
        "is_adult = age >= 18\n",
        "has_passed = score >= 60\n",
        "\n",
        "print(type(is_adult))  # <class 'bool'>\n",
        "print(f\"是否成年：{is_adult}\")\n",
        "print(f\"是否及格：{has_passed}\")"
      ],
      "execution_count": null,
      "outputs": []
    },
    {
      "cell_type": "markdown",
      "metadata": {},
      "source": [
        "## `print`与f-string\n",
        "\n",
        "上面的例子中，常用`print()`函数将内容输出到屏幕。`print()`是Python中最常用的输出语句，它可以输出字符串、变量、表达式等，并支持格式化输出。\n",
        "\n",
        "### `print`的一般用法"
      ]
    },
    {
      "cell_type": "code",
      "metadata": {},
      "source": [
        "year = 2024\n",
        "gdp = 1349084\n",
        "print(\"年：\", year, \"GDP总量（亿元）：\", gdp)"
      ],
      "execution_count": null,
      "outputs": []
    },
    {
      "cell_type": "markdown",
      "metadata": {},
      "source": [
        "在Python语言中，字符可以使用单引号或者双引号表示，在输出带引号的字符串时，可以利用该特点。例如"
      ]
    },
    {
      "cell_type": "code",
      "metadata": {},
      "source": [
        "# 输出带有引号的字符串\n",
        "print('She said, \"Hello!\"')      # 外单内双\n",
        "print(\"It's a nice day.\")        # 外双内单\n",
        "\n",
        "# 如果字符串本身包含同样的引号，可以用转义符\\避免冲突\n",
        "print('It\\'s a nice day.')       # 单引号中包含单引号\n",
        "print(\"She said, \\\"Hello!\\\"\")    # 双引号中包含双引号\n",
        "\n",
        "# 三引号可以包含单双引号和多行内容\n",
        "print(\"\"\"他说：\"It's OK!\" \"\"\")"
      ],
      "execution_count": null,
      "outputs": []
    },
    {
      "cell_type": "markdown",
      "metadata": {},
      "source": [
        "### 格式化输出 f-string\n",
        "f-string（格式化字符串字面量）是 Python 3.6 及以上版本提供的一种字符串格式化方式，它让我们可以在字符串中直接嵌入变量或表达式。"
      ]
    },
    {
      "cell_type": "code",
      "metadata": {},
      "source": [
        "print(f\"{year}年中国GDP总量为{gdp}亿元。\")\n",
        "\n",
        "pi = 3.14\n",
        "radius = 2\n",
        "area = pi * radius**2\n",
        "print(f\"圆的面积为：{area:.3f}平方米。\")"
      ],
      "execution_count": null,
      "outputs": []
    },
    {
      "cell_type": "code",
      "metadata": {},
      "source": [
        "year = 2024\n",
        "country = \"中国\"\n",
        "GDP_per_capita = 95749\n",
        "growth = 0.051\n",
        "\n",
        "my_string = f\"{year}年，{country}人均国内生产总值为{GDP_per_capita/10000:.2f}万元，比去年增长{growth:.2%}。\"\n",
        "print(my_string)"
      ],
      "execution_count": null,
      "outputs": []
    },
    {
      "cell_type": "markdown",
      "metadata": {},
      "source": [
        "## 运算符与表达式\n",
        "\n",
        "运算符用于对数据进行各种操作，主要包括以下几类：\n",
        "\n",
        "- 算术运算符：`+`（加），`-`（减），`*`（乘），`/`（除），`//`（整除），`%`（取余），`**`（幂）\n",
        "- 比较运算符：`==`（等于），`!=`（不等于），`>`（大于），`<`（小于），`>=`（大于等于），`<=`（小于等于）\n",
        "- 逻辑运算符：`and`（与），`or`（或），`not`（非）\n",
        "- 赋值运算符：`=`（赋值），`+=`，`-=`，`*=`，`/=` 等\n",
        "- 成员运算符：`in`，`not in`（判断元素是否属于序列）\n",
        "- 身份运算符：`is`，`is not`（判断两个对象是否为同一对象）\n",
        "\n",
        "下面分别介绍常用的运算符及其用法。\n",
        "\n",
        "### 算术运算符\n",
        "\n",
        "算术运算符包括：加法（+）、减法（-）、乘法（*）、除法（/）、整除（//）、取余（%）、幂运算（**）："
      ]
    },
    {
      "cell_type": "code",
      "metadata": {},
      "source": [
        "a = 15\n",
        "b = 4\n",
        "\n",
        "print(\"a // b =\", a // b)  \n",
        "print(\"a % b =\", a % b)    \n",
        "print(\"a ** b =\", a ** b)  "
      ],
      "execution_count": null,
      "outputs": []
    },
    {
      "cell_type": "markdown",
      "metadata": {},
      "source": [
        "### 比较运算符\n",
        "\n",
        "比较运算符用于比较两个值，结果为布尔类型（True或False）"
      ]
    },
    {
      "cell_type": "code",
      "metadata": {},
      "source": [
        "print(\"a > b:\", a > b)\n",
        "print(\"a == b:\", a == b)   \n",
        "print(\"a != b:\", a != b)   "
      ],
      "execution_count": null,
      "outputs": []
    },
    {
      "cell_type": "markdown",
      "metadata": {},
      "source": [
        "#### 逻辑运算符\n",
        "\n",
        "逻辑运算符用于连接多个条件表达式，常用于复合条件判断。例如："
      ]
    },
    {
      "cell_type": "code",
      "metadata": {},
      "source": [
        "x = 8\n",
        "y = 3\n",
        "#\n",
        "print((x > 5) and (y < 5))  \n",
        "print((x < 5) or (y < 5))   \n",
        "print(not (x > y))          "
      ],
      "execution_count": null,
      "outputs": []
    },
    {
      "cell_type": "markdown",
      "metadata": {},
      "source": [
        "### 赋值运算符\n",
        "\n",
        "赋值运算符用于给变量赋值或在原有基础上进行运算后赋值:"
      ]
    },
    {
      "cell_type": "code",
      "metadata": {},
      "source": [
        "x = 10      \n",
        "x += 5   \n",
        "x -= 3   \n",
        "x *= 2   \n",
        "x /= 4   \n",
        "x //= 2  \n",
        "x %= 2   \n",
        "x **= 3  \n",
        "#\n",
        "print(x)"
      ],
      "execution_count": null,
      "outputs": []
    },
    {
      "cell_type": "markdown",
      "metadata": {},
      "source": [
        "### 成员运算符\n",
        "\n",
        "成员运算符用于判断某个元素是否属于某个序列，如列表、元组、字符串等。例如："
      ]
    },
    {
      "cell_type": "code",
      "metadata": {},
      "source": [
        "两省一市 = ['江苏省', '上海市', '浙江省']\n",
        "print('江苏省' in 两省一市)\n",
        "\n",
        "gdp = \"国内生产总值\"\n",
        "print(\"民\" not in gdp)            "
      ],
      "execution_count": null,
      "outputs": []
    },
    {
      "cell_type": "markdown",
      "metadata": {},
      "source": [
        "## 控制结构：条件与循环\n",
        "\n",
        "### 条件语句\n",
        "\n",
        "条件语句（if语句）用于根据条件判断执行不同的代码块，基本结构："
      ]
    },
    {
      "cell_type": "code",
      "metadata": {},
      "source": [
        "# if 条件:\n",
        "#     代码块1\n",
        "# elif 其他条件:\n",
        "#     代码块2\n",
        "# else:\n",
        "#     代码块3"
      ],
      "execution_count": null,
      "outputs": []
    },
    {
      "cell_type": "markdown",
      "metadata": {},
      "source": [
        "以世界银行经济体收入分组标准为例：\n",
        "\n",
        "[世界银行](https://blogs.worldbank.org/zh/opendata/world-bank-country-classifications-by-income-level-for-2024-2025)按照人均国民收入把世界各经济体分成四组，如 @tbl-worldbankincome 所示，中、低收入国家被称为发展中国家，高收入国家被称为发达国家。\n",
        "\n",
        "| 经济体分组           | 划分标准（人均国民总收入）     |\n",
        "|----------------------|-------------------------------|\n",
        "| 低收入经济体         | 1145 美元以下                 |\n",
        "| 中等偏下收入经济体   | 1146—4515 美元               |\n",
        "| 中等偏上收入经济体   | 4516—14005 美元              |\n",
        "| 高收入经济体         | 14005 美元以上               |\n",
        "\n",
        ": 世界银行经济体收入分组标准 {#tbl-worldbankincome}\n",
        "\n",
        "可以使用嵌套条件语句来进行判别："
      ]
    },
    {
      "cell_type": "code",
      "metadata": {},
      "source": [
        "gni = 13660\n",
        "\n",
        "if gni <= 1135:\n",
        "    economy = \"低收入经济体\"\n",
        "elif gni <= 4465:\n",
        "    economy =  \"中等偏下收入经济体\"\n",
        "elif gni <= 13845:\n",
        "    economy = \"中等偏上收入经济体\"\n",
        "else:\n",
        "    economy = \"高收入经济体\"\n",
        "\n",
        "print(f\"人均国民总收入为 {gni} 美元，属于：{economy}\")"
      ],
      "execution_count": null,
      "outputs": []
    },
    {
      "cell_type": "markdown",
      "metadata": {},
      "source": [
        "### 例： BMI指数\n",
        "\n",
        "再来看一个计算BMI（Body Mass Index）指数的例子：\n",
        "$$\n",
        "BMI = \\frac{\\text{体重（千克）}}{身高（米）^{2}}\n",
        "$$"
      ]
    },
    {
      "cell_type": "code",
      "metadata": {},
      "source": [
        "# 输入身高（米）和体重（千克）\n",
        "height = 1.75 #float(input(\"请输入身高（米）：\"))\n",
        "weight = 75 # float(input(\"请输入体重（千克）：\"))\n",
        "\n",
        "# 计算BMI\n",
        "bmi = weight / (height ** 2)\n",
        "print(f\"BMI数值为：{bmi:.2f}\")\n",
        "\n",
        "# 判断健康状况\n",
        "if bmi < 18.5:\n",
        "    status = \"偏瘦\"\n",
        "elif bmi < 24:\n",
        "    status = \"正常\"\n",
        "elif bmi < 28:\n",
        "    status = \"超重\"\n",
        "else:\n",
        "    status = \"肥胖\"\n",
        "print(f\"健康状况：{status}\")"
      ],
      "execution_count": null,
      "outputs": []
    },
    {
      "cell_type": "markdown",
      "metadata": {},
      "source": [
        "### for循环与range\n",
        "\n",
        "`for`循环用于遍历序列（如列表、字符串、元组等）或按照一定范围循环，经常与`range()`一起使用。"
      ]
    },
    {
      "cell_type": "code",
      "metadata": {},
      "source": [
        "# 遍历列表\n",
        "fruits = [\"apple\", \"banana\", \"cherry\"]\n",
        "for fruit in fruits:\n",
        "    print(fruit)\n",
        "\n",
        "# 计算1到100的和\n",
        "total = 0\n",
        "for i in range(1, 101):\n",
        "    total += i\n",
        "print(\"1到100的和为：\", total)"
      ],
      "execution_count": null,
      "outputs": []
    },
    {
      "cell_type": "markdown",
      "metadata": {},
      "source": [
        "### while循环\n",
        "while循环是一种基于条件判断的循环结构。当条件为True时，循环体会反复执行，直到条件变为False为止。\n",
        "\n",
        "while循环要注意循环变量的更新，否则可能会造成死循环。"
      ]
    },
    {
      "cell_type": "code",
      "metadata": {},
      "source": [
        "# 例1：输出1到5\n",
        "i = 1\n",
        "while i <= 5:\n",
        "    print(i)\n",
        "    i += 1\n",
        "\n",
        "# 例2：计算1到100的和\n",
        "total = 0\n",
        "n = 1\n",
        "while n <= 100:\n",
        "    total += n\n",
        "    n += 1\n",
        "print(\"1到100的和为：\", total)"
      ],
      "execution_count": null,
      "outputs": []
    },
    {
      "cell_type": "markdown",
      "metadata": {},
      "source": [
        "## 容器类型：列表、字典、元组、集合\n",
        "\n",
        "列表（list）、字典（dict）、元组（tuple）、集合（set）是Python中常用的容器类型。\n",
        "\n",
        "- 列表：用[]定义，有序可变\n",
        "- 字典：用{}定义，键值对结构\n",
        "- 元组：用()定义，有序不可变\n",
        "- 集合：用set()或{}定义，无序不重复\n",
        "\n",
        "### 列表\n",
        "\n",
        "\n",
        "@tbl-list-methods 中列出了常用的列表方法，假设初始列表为`lst = [1, 2, 3]`：\n",
        "\n",
        "| 方法 | 功能说明 | 示例 | 结果 |\n",
        "|------|----------|------|------|\n",
        "| `append(x)` | 在列表末尾添加元素 `x` | `lst.append(4)` | `[1, 2, 3, 4]` |\n",
        "| `extend(iterable)` | 将可迭代对象中的元素添加到列表末尾 | `lst.extend([4, 5])` | `[1, 2, 3, 4, 5]` |\n",
        "| `insert(i, x)` | 在索引 `i` 处插入元素 `x` | `lst.insert(1, 10)` | `[1, 10, 2, 3]` |\n",
        "| `remove(x)` | 删除列表中第一个值为 `x` 的元素 | `lst.remove(2)` | `[1, 3]` |\n",
        "| `pop([i])` | 移除并返回指定索引的元素，默认删除最后一个 | `lst.pop()` / `lst.pop(0)` | `3` / `1` |\n",
        "| `clear()` | 清空列表所有元素 | `lst.clear()` | `[]` |\n",
        "| `index(x)` | 返回第一个值为 `x` 的索引 | `lst.index(3)` | `2` |\n",
        "| `count(x)` | 返回元素 `x` 在列表中出现的次数 | `lst.count(2)` | `1` |\n",
        "| `sort()` | 原地排序（默认升序） | `lst.sort()` | `[1, 2, 3]` |\n",
        "| `sort(reverse=True)` | 原地降序排序 | `lst.sort(reverse=True)` | `[3, 2, 1]` |\n",
        "| `reverse()` | 原地反转列表顺序 | `lst.reverse()` | `[3, 2, 1]` |\n",
        "| `copy()` | 返回列表的浅拷贝 | `new_lst = lst.copy()` | `[1, 2, 3]` |\n",
        ": 列表的常用方法 {#tbl-list-methods}"
      ]
    },
    {
      "cell_type": "code",
      "metadata": {},
      "source": [
        "# 列表（list）：有序、可变的元素集合，用[]表示\n",
        "numbers = [10, 20, 30, 40]\n",
        "fruits = [\"apple\", \"banana\", \"cherry\"]\n",
        "\n",
        "# 访问元素（索引从0开始）\n",
        "print(numbers[0])      # 10\n",
        "print(fruits[-1])      # cherry（倒数第1个）\n",
        "\n",
        "# 修改元素\n",
        "numbers[1] = 25\n",
        "print(numbers)         # [10, 25, 30, 40]\n",
        "\n",
        "# 添加元素\n",
        "fruits.append(\"orange\")        # 末尾添加\n",
        "fruits.insert(1, \"pear\")       # 指定位置插入\n",
        "print(fruits)                  # ['apple', 'pear', 'banana', 'cherry', 'orange']\n",
        "\n",
        "# 删除元素\n",
        "del numbers[2]                 # 按索引删除\n",
        "fruits.remove(\"banana\")        # 按值删除\n",
        "print(numbers)                 # [10, 25, 40]\n",
        "print(fruits)                  # ['apple', 'pear', 'cherry', 'orange']\n",
        "\n",
        "# 列表切片\n",
        "print(numbers[1:])             # [25, 40]\n",
        "print(fruits[:2])              # ['apple', 'pear']\n",
        "\n",
        "# 遍历列表\n",
        "for fruit in fruits:\n",
        "    print(fruit)\n",
        "\n",
        "# 列表常用方法\n",
        "print(len(numbers))            # 长度\n",
        "print(max(numbers))            # 最大值\n",
        "print(min(numbers))            # 最小值\n",
        "print(numbers.count(25))       # 出现次数\n",
        "numbers.sort()                 # 排序\n",
        "print(numbers)\n",
        "\n",
        "# 元组（tuple）：有序、不可变的元素集合，用()表示\n",
        "point = (3, 4)\n",
        "colors = (\"red\", \"green\", \"blue\")\n",
        "\n",
        "# 访问元素\n",
        "print(point[0])                # 3\n",
        "print(colors[-1])              # blue\n",
        "\n",
        "# 元组不可修改\n",
        "# point[1] = 5  # 会报错\n",
        "\n",
        "# 单元素元组要加逗号\n",
        "single = (5,)\n",
        "print(type(single))            # <class 'tuple'>\n",
        "\n",
        "# 元组可以用于多变量赋值\n",
        "x, y = point\n",
        "print(x, y)                    # 3 4\n",
        "\n",
        "# 遍历元组\n",
        "for color in colors:\n",
        "    print(color)"
      ],
      "execution_count": null,
      "outputs": []
    },
    {
      "cell_type": "markdown",
      "metadata": {},
      "source": [
        "### 例：计算净现值\n",
        "\n",
        "如果某项资产在多个时间周期内支付一系列收益流，那么我们可以使用**贴现率**来计算这整个收益序列对消费者的当前价值。\n",
        "\n",
        "更一般地说，我们用索引$t$来表示每一个离散的时间周期（例如年、月、日），其中“今天”为第 $t = 0$ 期，资产一共存在 $T$ 个时间周期。\n",
        "\n",
        "我们用 $y_t$ 表示第 $t$ 期的收益，**并假设这些收益现在是已知的**。\n",
        "\n",
        "如果贴现因子为 $r\\ge 0$，那么消费者对第 $t$ 期收到的收益 $y_t$ 的当前“价值”是：\n",
        "\n",
        "$$\n",
        "\\frac{1}{(1 + r)^{t}}y_t\n",
        "$$\n",
        "\n",
        "需要注意的是，当 $t = 0$ 时，当前价值就是 $y_0$。\n",
        "\n",
        "基于这一逻辑，我们可以用一个求和表达式来表示整条收益序列的总价值：\n",
        "\n",
        "$$\n",
        "P_{0} = \\sum_{t=0}^{T} (\\frac{1}{1+r})^{t}y_{t}\n",
        "$$\n",
        "\n",
        "我们将假设的收益序列保存为列表： `y = [-100, 80, 60, 50]`，贴现率假设为0.05："
      ]
    },
    {
      "cell_type": "code",
      "metadata": {},
      "source": [
        "y = [-100, 80, 60, 50]\n",
        "r = 0.05\n",
        "P0 = 0\n",
        "for t in range(len(y)):\n",
        "    P0 = P0 + y[t] / (1 + r) ** t\n",
        "print(f\"总贴现值为：{P0:.2f}\")"
      ],
      "execution_count": null,
      "outputs": []
    },
    {
      "cell_type": "markdown",
      "metadata": {},
      "source": [
        "### 字典的键值对操作\n",
        "字典（dict）是一种用于存储键值对的数据结构。每个元素由“键”（key）和“值”（value）组成，键必须唯一且不可变，值可以是任意类型。\n",
        "字典用大括号{}表示，键和值之间用冒号:分隔，多个键值对之间用逗号,分隔。"
      ]
    },
    {
      "cell_type": "code",
      "metadata": {},
      "source": [
        "# 定义字典\n",
        "person = {\"name\": \"Tom\", \"age\": 18, \"gender\": \"male\"}\n",
        "print(person)\n",
        "\n",
        "# 访问字典的值（通过键）\n",
        "print(person[\"name\"])      # 输出：Tom\n",
        "\n",
        "# 添加或修改元素\n",
        "person[\"city\"] = \"Beijing\" # 添加新键值对\n",
        "person[\"age\"] = 20         # 修改已有键的值\n",
        "print(person)\n",
        "\n",
        "# 删除元素\n",
        "del person[\"gender\"]\n",
        "print(person)\n",
        "\n",
        "# 遍历字典\n",
        "for key in person:\n",
        "    print(key, person[key])\n",
        "\n",
        "# 常用方法\n",
        "print(person.keys())       # 所有键\n",
        "print(person.values())     # 所有值\n",
        "print(person.items())      # 所有键值对\n",
        "print(\"name\" in person)    # 判断键是否存在"
      ],
      "execution_count": null,
      "outputs": []
    },
    {
      "cell_type": "markdown",
      "metadata": {},
      "source": [
        "### 应用：利用字典进行词频统计\n",
        "\n",
        "统计一段文本中每个单词出现的次数"
      ]
    },
    {
      "cell_type": "code",
      "metadata": {},
      "source": [
        "text = \"python is fun and python is easy to learn\"\n",
        "words = text.split()\n",
        "freq = {}\n",
        "\n",
        "for word in words:\n",
        "    if word in freq:         # 判断单词是否已在字典中\n",
        "        freq[word] += 1\n",
        "    else:\n",
        "        freq[word] = 1\n",
        "\n",
        "print(freq)"
      ],
      "execution_count": null,
      "outputs": []
    },
    {
      "cell_type": "markdown",
      "metadata": {},
      "source": [
        "## 函数与模块\n",
        "\n",
        "### 内置函数的调用\n",
        "Python内置函数是系统自带的、可以直接使用的函数，无需导入模块。常见内置函数有：`abs()`, `len()`,`max()`, `min()`, `sum()`, `type()`, `int()`, `float()`, `str()`, `list()`, `dict()`, `range()` 等"
      ]
    },
    {
      "cell_type": "code",
      "metadata": {},
      "source": [
        "# 例1：abs() 取绝对值\n",
        "print(abs(-10))        # 输出：10\n",
        "\n",
        "# 例2：len() 计算长度\n",
        "lst = [1, 2, 3, 4]\n",
        "print(len(lst))        # 输出：4\n",
        "\n",
        "# 例3：max() 和 min() 求最大最小值\n",
        "print(max(5, 8, 2))    # 输出：8\n",
        "print(min([7, 3, 9]))  # 输出：3\n",
        "\n",
        "# 例4：sum() 求和\n",
        "print(sum([1, 2, 3]))  # 输出：6\n",
        "\n",
        "# 例5：type() 查看类型\n",
        "print(type(\"hello\"))   # 输出：<class 'str'>\n",
        "\n",
        "# 例6：int(), float(), str() 类型转换\n",
        "print(int(\"123\"))      # 输出：123\n",
        "print(float(\"3.14\"))   # 输出：3.14\n",
        "print(str(456))        # 输出：\"456\""
      ],
      "execution_count": null,
      "outputs": []
    },
    {
      "cell_type": "markdown",
      "metadata": {},
      "source": [
        "### 自定义函数\n",
        "\n",
        "下面是几个简单的自定义函数的例子。"
      ]
    },
    {
      "cell_type": "code",
      "metadata": {},
      "source": [
        "# 自定义函数使用def关键字，指定函数名、参数列表和函数体\n",
        "def greet(name):\n",
        "    print(f\"Hello, {name}!\")\n",
        "\n",
        "# 调用函数\n",
        "greet(\"Alice\")"
      ],
      "execution_count": null,
      "outputs": []
    },
    {
      "cell_type": "markdown",
      "metadata": {},
      "source": [
        "带返回值的函数，如计算平均数"
      ]
    },
    {
      "cell_type": "code",
      "metadata": {},
      "source": [
        "def mean(numbers):\n",
        "    total = sum(numbers)\n",
        "    N = len(numbers)\n",
        "    answer = total / N\n",
        "\n",
        "    return answer\n",
        "nums = [3, 8, 1, 6]\n",
        "print(mean(nums))"
      ],
      "execution_count": null,
      "outputs": []
    },
    {
      "cell_type": "markdown",
      "metadata": {},
      "source": [
        "带默认参数的函数"
      ]
    },
    {
      "cell_type": "code",
      "metadata": {},
      "source": [
        "def power(base, exponent=2):\n",
        "    return base ** exponent\n",
        "\n",
        "print(power(4))      # 16，使用默认指数2\n",
        "print(power(2, 3))   # 8，指定指数3"
      ],
      "execution_count": null,
      "outputs": []
    },
    {
      "cell_type": "markdown",
      "metadata": {},
      "source": [
        "函数也可以有多个返回值（返回元组）"
      ]
    },
    {
      "cell_type": "code",
      "metadata": {},
      "source": [
        "def min_max(numbers):\n",
        "    return min(numbers), max(numbers)\n",
        "\n",
        "minimum, maximum = min_max(nums)\n",
        "print(\"最小值：\", minimum)\n",
        "print(\"最大值：\", maximum)\n",
        "\n",
        "# 另外一个例子计算商和余数\n",
        "def divide(a, b):\n",
        "    quotient = a // b\n",
        "    remainder = a % b\n",
        "    return quotient, remainder\n",
        "\n",
        "q, r = divide(17, 5)\n",
        "print(\"商：\", q, \"余数：\", r)"
      ],
      "execution_count": null,
      "outputs": []
    },
    {
      "cell_type": "markdown",
      "metadata": {},
      "source": [
        "3. 可变参数：*args 接收任意数量的位置参数，类型为元组"
      ]
    },
    {
      "cell_type": "code",
      "metadata": {},
      "source": [
        "def total(*args):\n",
        "    return sum(args)\n",
        "\n",
        "print(total(1, 2, 3))       # 输出：6\n",
        "print(total(5, 10))         # 输出：15"
      ],
      "execution_count": null,
      "outputs": []
    },
    {
      "cell_type": "markdown",
      "metadata": {},
      "source": [
        "4. 关键字参数：**kwargs 接收任意数量的关键字参数，类型为字典"
      ]
    },
    {
      "cell_type": "code",
      "metadata": {},
      "source": [
        "def show_info(**kwargs):\n",
        "    for key, value in kwargs.items():\n",
        "        print(f\"{key}: {value}\")\n",
        "\n",
        "show_info(name=\"Alice\", age=20)"
      ],
      "execution_count": null,
      "outputs": []
    },
    {
      "cell_type": "markdown",
      "metadata": {},
      "source": [
        "### 例：世界银行经济体分组（续）\n",
        "\n",
        "将前面例子中的`if`语句代码，赋值粘贴至某一个AI大模型平台，输入提示：“将下面的Python代码定义为一个函数”。"
      ]
    },
    {
      "cell_type": "code",
      "metadata": {},
      "source": [
        "def classify_economy(gni):\n",
        "    if gni <= 1135:\n",
        "        economy = \"低收入经济体\"\n",
        "    elif gni <= 4465:\n",
        "        economy = \"中等偏下收入经济体\"\n",
        "    elif gni <= 13845:\n",
        "        economy = \"中等偏上收入经济体\"\n",
        "    else:\n",
        "        economy = \"高收入经济体\"\n",
        "    return economy\n",
        "e = classify_economy(13500)\n",
        "print(e)"
      ],
      "execution_count": null,
      "outputs": []
    },
    {
      "cell_type": "markdown",
      "metadata": {},
      "source": [
        "自定义函数常与其他功能结合使用，例如Pandas库的`df.apply()`方法。下面的例子首先从World Bank数据库下载2024年[GDP per capita (current US$)](https://data.worldbank.org/indicator/NY.GDP.PCAP.CD)数据，删除缺失值，然后应用自定义的`classify_economy()`函数："
      ]
    },
    {
      "cell_type": "code",
      "metadata": {},
      "source": [
        "import pandas as pd\n",
        "import wbgapi as wb\n",
        "gdp_pc_2024 = wb.data.DataFrame(\"NY.GDP.PCAP.CD\", time = 2024)\n",
        "gdp_pc_2024 = gdp_pc_2024.dropna()\n",
        "gdp_pc_2024['NY.GDP.PCAP.CD'].apply(classify_economy)"
      ],
      "execution_count": null,
      "outputs": []
    },
    {
      "cell_type": "markdown",
      "metadata": {},
      "source": [
        "### 例：BMI指数函数\n",
        "\n",
        "同样，也可以将上面计算BMI指数的过程，定义为一个函数："
      ]
    },
    {
      "cell_type": "code",
      "metadata": {},
      "source": [
        "def bmi(height, weight):\n",
        "    \"\"\"计算BMI指数并返回数值和健康状况\"\"\"\n",
        "    bmi = weight / (height ** 2)\n",
        "    if bmi < 18.5:\n",
        "        status = \"偏瘦\"\n",
        "    elif bmi < 24:\n",
        "        status = \"正常\"\n",
        "    elif bmi < 28:\n",
        "        status = \"超重\"\n",
        "    else:\n",
        "        status = \"肥胖\"\n",
        "    return bmi, status\n",
        "\n",
        "# 示例调用\n",
        "bmi, status = bmi(1.75, 75)\n",
        "print(f\"BMI数值为：{bmi:.2f}\")\n",
        "print(f\"健康状况：{status}\")"
      ],
      "execution_count": null,
      "outputs": []
    },
    {
      "cell_type": "markdown",
      "metadata": {},
      "source": [
        "### 例：定义一个集中度函数\n",
        "\n",
        "令 $s_i$表示企业 $i$ 的市场份额，定义一个函数，计算：\n",
        "\n",
        "产业集中度指数（ $CR_{n}$ ）\n",
        "$$\n",
        "CR_{4} = \\sum_{i=1}^{4}s_{i}\n",
        "$$\n",
        "\n",
        "和赫芬达尔指数\n",
        "$$\n",
        "H_{i} = \\sum_{i=1}^{n}s_{i}^{2}\n",
        "$$"
      ]
    },
    {
      "cell_type": "code",
      "metadata": {},
      "source": [
        "def concentration_index(sales, top_n=4):\n",
        "    \"\"\"\n",
        "    计算前N家企业的集中度（Cn）和赫芬达尔-赫希曼指数（HHI）。\n",
        "    sales: 销售收入列表\n",
        "    top_n: 前N家，默认为4（C4），可设为8（C8）\n",
        "    返回：(Cn, HHI)\n",
        "    \"\"\"\n",
        "    total = sum(sales)\n",
        "    if total == 0:\n",
        "        return 0, 0\n",
        "    sorted_sales = sorted(sales, reverse=True)\n",
        "    cn = sum(sorted_sales[:top_n]) / total\n",
        "    hhi = sum((s / total) ** 2 for s in sales)\n",
        "    return cn, hhi\n",
        "\n",
        "# 示例\n",
        "sales = [100, 80,85, 60, 40, 30, 20, 10, 5, 3, 2]\n",
        "concentration_index(sales, top_n=4)"
      ],
      "execution_count": null,
      "outputs": []
    },
    {
      "cell_type": "markdown",
      "metadata": {},
      "source": [
        "### 例：定义Cobb-Douglas函数\n",
        "\n",
        "Cobb-Douglas生产函数是最常见的设定，例如一个规模报酬不变的CD函数表示为：\n",
        "$$Y = AK^{\\alpha}L^{1-\\alpha}$$\n",
        "其中，$\\alpha$表示资本的产出弹性，$A$表示全要素生产率。"
      ]
    },
    {
      "cell_type": "code",
      "metadata": {},
      "source": [
        "import numpy as np\n",
        "import matplotlib.pyplot as plt\n",
        "\n",
        "def cobb_douglas(K, L, alpha = 1/3, A = 1):\n",
        "    output = A * K**alpha * L**(1 - alpha)\n",
        "    return output\n",
        "cobb_douglas(K=1, L=0.5)"
      ],
      "execution_count": null,
      "outputs": []
    },
    {
      "cell_type": "markdown",
      "metadata": {},
      "source": [
        "从微观经济学内容我们知道，等产量曲线是带来相同产出的要素组合 $(K, L)$ 形成的曲线，可以应用matplotlib中的`contour`函数绘制上面函数定义的等产量曲线："
      ]
    },
    {
      "cell_type": "code",
      "metadata": {},
      "source": [
        "# 生成K和L的网格\n",
        "K = np.linspace(0.1, 2, 100)\n",
        "L = np.linspace(0.1, 2, 100)\n",
        "K_grid, L_grid = np.meshgrid(K, L)\n",
        "\n",
        "# 利用函数计算产量\n",
        "Y = cobb_douglas(K_grid, L_grid)\n",
        "# 绘图\n",
        "fig, ax = plt.subplots(figsize=(8, 6))\n",
        "contours = ax.contour(K_grid, L_grid, Y, levels=8, cmap='viridis')\n",
        "ax.clabel(contours, inline=True, fontsize=8)\n",
        "ax.set_xlabel('K')\n",
        "ax.set_ylabel('L')\n",
        "ax.set_title('Cobb-Douglas isoquant')\n",
        "ax.grid(True, linestyle='--', alpha=0.5)\n",
        "plt.show()"
      ],
      "execution_count": null,
      "outputs": []
    },
    {
      "cell_type": "markdown",
      "metadata": {},
      "source": [
        "### 模块的导入与使用\n",
        "\n",
        "Python的模块（module）是包含一组功能的代码文件，可以通过import语句导入并使用其中的函数、变量等。分为三类：\n",
        "- python自带模块，不需要安装，直接import载入就可以了，如math包；\n",
        "- 第三方模块，通常需要下载安装，然后载入，如numpy，scipy等；\n",
        "- 自定义模块，自己写的实现某些功能的py文件的集合。"
      ]
    },
    {
      "cell_type": "code",
      "metadata": {},
      "source": [
        "# 1. 导入标准库模块\n",
        "import math\n",
        "print(math.sqrt(16))      # 计算平方根，输出4.0\n",
        "print(math.pi)            # 圆周率常量\n",
        "\n",
        "# 2. 导入模块中的部分内容\n",
        "from random import randint\n",
        "print(randint(1, 10))     # 生成1到10之间的随机整数\n",
        "\n",
        "# 3. 给模块起别名\n",
        "import datetime as dt\n",
        "now = dt.datetime.now()\n",
        "print(now)"
      ],
      "execution_count": null,
      "outputs": []
    },
    {
      "cell_type": "markdown",
      "metadata": {},
      "source": [
        "可以把自定义的函数等保存在`.py`格式等脚本文件中，自定义模块。例如，在文件夹pyfiles中my_module.py文件保存了一个计算BMI的函数，我们载入该函数然后进行计算："
      ]
    },
    {
      "cell_type": "code",
      "metadata": {},
      "source": [
        "from pyfiles.my_module import bmi_index\n",
        "\n",
        "# 示例调用\n",
        "bmi, status = bmi_index(1.75, 75)\n",
        "print(f\"BMI数值为：{bmi:.2f}\")\n",
        "print(f\"健康状况：{status}\")"
      ],
      "execution_count": null,
      "outputs": []
    },
    {
      "cell_type": "markdown",
      "metadata": {},
      "source": [
        "## 面向对象的编程\n",
        "\n",
        "### 什么是类\n",
        "类（class）是面向对象编程（OOP）的核心概念，用于描述具有相同属性和方法的一类对象的模板或蓝图。\n",
        "对象（object）是类的实例，拥有类定义的属性和方法。\n",
        "\n",
        "### 定义一个简单的类\n",
        "\n",
        "下面定义一个类`Student`，它具有两个属性`name`、`age`，和一个方法`introduce()`："
      ]
    },
    {
      "cell_type": "code",
      "metadata": {},
      "source": [
        "class Student:\n",
        "    # 构造方法，初始化属性\n",
        "    def __init__(self, name, age):\n",
        "        self.name = name\n",
        "        self.age = age\n",
        "\n",
        "    # 方法\n",
        "    def introduce(self):\n",
        "        print(f\"大家好，我是{self.name}，今年{self.age}岁。\")\n",
        "\n",
        "# 创建对象（实例化）\n",
        "stu1 = Student(\"Alice\", 20)\n",
        "stu2 = Student(\"Bob\", 22)\n",
        "\n",
        "# 调用方法\n",
        "stu1.introduce()\n",
        "stu2.introduce()"
      ],
      "execution_count": null,
      "outputs": []
    },
    {
      "cell_type": "markdown",
      "metadata": {},
      "source": [
        "### 例：定义一个局部均衡分析模型\n",
        "\n",
        "微观经济学中，简单的局部均衡市场模型表示为:\n",
        "$$\n",
        "\\begin{cases}\n",
        "Q_{D} = a - b\\times P \\\\\n",
        "Q_{S} = c + d\\times P \\\\\n",
        "Q_{D} = Q_{S}\n",
        "\\end{cases}\n",
        "$$\n",
        "\n",
        "我们定义一个类`Market`，将参数定义为属性，将需求、供给和均衡条件定义为三个方法：\n",
        "\n",
        "- `demand`计算给定价格的需求量；\n",
        "- `supply`计算给定价格的供给量\n",
        "- `equilibrium`计算均衡价格和均衡数量;"
      ]
    },
    {
      "cell_type": "code",
      "metadata": {},
      "source": [
        "class Market:\n",
        "    def __init__(self, a, b, c, d):\n",
        "        \"\"\"\n",
        "        初始化市场参数\n",
        "        需求函数: Qd = a - b*P\n",
        "        供给函数: Qs = c + d*P\n",
        "        \"\"\"\n",
        "        self.a = a\n",
        "        self.b = b\n",
        "        self.c = c\n",
        "        self.d = d\n",
        "\n",
        "    def demand(self, P):\n",
        "        \"\"\"根据价格P计算需求量\"\"\"\n",
        "        return self.a - self.b * P\n",
        "\n",
        "    def supply(self, P):\n",
        "        \"\"\"根据价格P计算供给量\"\"\"\n",
        "        return self.c + self.d * P\n",
        "\n",
        "    def equilibrium(self):\n",
        "        \"\"\"\n",
        "        计算均衡价格和均衡数量\n",
        "        均衡条件: Qd = Qs\n",
        "        \"\"\"\n",
        "        # a - b*P = c + d*P\n",
        "        # (a - c) = (b + d)*P        \n",
        "        P_eq = (self.a - self.c) / (self.b + self.d)\n",
        "        Q_eq = self.demand(P_eq)\n",
        "        return P_eq, Q_eq\n",
        "\n",
        "# 示例\n",
        "market = Market(a=100, b=2, c=20, d=3)\n",
        "P_star, Q_star = market.equilibrium()\n",
        "print(f\"均衡价格：{P_star:.2f}\")\n",
        "print(f\"均衡数量：{Q_star:.2f}\")"
      ],
      "execution_count": null,
      "outputs": []
    },
    {
      "cell_type": "markdown",
      "metadata": {},
      "source": [
        "可以利用定义的`market`类中的方法绘制需求曲线和供给曲线："
      ]
    },
    {
      "cell_type": "code",
      "metadata": {},
      "source": [
        "import numpy as np\n",
        "import matplotlib.pyplot as plt\n",
        "\n",
        "# 生成价格区间\n",
        "P = np.linspace(0, 50, 200)\n",
        "Qd = [market.demand(p) for p in P]\n",
        "Qs = [market.supply(p) for p in P]\n",
        "\n",
        "# 绘图\n",
        "fig, ax = plt.subplots(figsize=(8, 6))\n",
        "ax.plot(Qd, P, label=\"Demand Qd\", color=\"blue\")\n",
        "ax.plot(Qs, P, label=\"Supply Qs\", color=\"orange\")\n",
        "ax.scatter(Q_star, P_star, color=\"red\", zorder=5)\n",
        "ax.annotate(f\"Equilibrium\\n(Q={Q_star:.1f}, P={P_star:.1f})\",\n",
        "             xy=(Q_star, P_star), xytext=(Q_star+10, P_star+5),\n",
        "             arrowprops=dict(arrowstyle=\"->\", color=\"red\"))\n",
        "ax.set_xlabel(\"Q\")\n",
        "ax.set_ylabel(\"P\")\n",
        "ax.legend()\n",
        "ax.grid(True, linestyle=\"--\", alpha=0.5)\n",
        "plt.show()"
      ],
      "execution_count": null,
      "outputs": []
    }
  ],
  "metadata": {
    "kernelspec": {
      "name": "python3",
      "language": "python",
      "display_name": "Python 3 (ipykernel)",
      "path": "/Users/admin/Desktop/quarto/EconomicAnalysis/eco/share/jupyter/kernels/python3"
    }
  },
  "nbformat": 4,
  "nbformat_minor": 4
}