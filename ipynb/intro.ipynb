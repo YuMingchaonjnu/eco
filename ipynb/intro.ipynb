{
  "cells": [
    {
      "cell_type": "markdown",
      "metadata": {},
      "source": [
        "# 引言\n",
        "\n",
        "《基于Python的经济分析与应用》课程专为国际商务专业硕士研究生设计，注重理论与实践相结合。课程内容涵盖Python编程基础、数据采集与处理、经济数据分析、可视化展示及实际案例应用。通过本课程，学生能够掌握利用Python进行经济数据分析的方法，提高数据处理与决策支持能力，增强在国际商务环境中的实际应用能力，为未来从事数据驱动的经济分析和国际商务决策打下坚实基础。\n",
        "\n",
        "## 课程是关于什么的？\n",
        "\n",
        "### 涉及课程\n",
        "\n",
        "- 理论模型？\n",
        "- 实证分析？\n",
        "- 数据分析？\n",
        "- 经济学？\n",
        "- 产业经济学\n",
        "- 国际贸易？\n",
        "\n",
        "### 经济数据分析\n",
        "\n",
        "- 宏观经济形式分析。如[北京大学汇丰商学院](https://thinktank.phbs.pku.edu.cn/jingjifenxi/)的经济分析。毕马威的[中国经济观察](https://kpmg.com/cn/zh/home/insights/2018/02/china-economic-monitor.html)季度报告等。\n",
        "- [中国宏观经济论坛](http://ier.ruc.edu.cn/)\n",
        "- 美国经济分析局（Bureau of Economic Analysis，BEA）：The Bureau of Economic Analysis (BEA) promotes a better understanding of the U.S. economy by providing the most timely, relevant, and accurate economic accounts data in an objective and cost-effective manner.\n",
        "- 数据科学\n",
        "- 数据服务商\n",
        "\n",
        "### 本课程的主要内容\n",
        "\n",
        "围绕经济学、国际贸易中有关主题展开，主要包括：\n",
        "\n",
        "- 经济数据分析：如增长、不平等等、通货膨胀等宏观数据；\n",
        "- 统计分析方法：t检验、方差分析等；\n",
        "- 线性回归方法\n",
        "- 蒙特卡洛模拟分析\n",
        "- 机器学习基础方法\n",
        "- 投入产出模型；\n",
        "- 网络分析方法；\n",
        "\n",
        "### 主要参考书\n",
        "\n",
        "会用到部分Python有关的内容，如：\n",
        "\n",
        "- @mckinney2022python， [在线阅读](https://wesmckinney.com/book/)\n",
        "- @vanderplas2016python， [在线阅读](https://jakevdp.github.io/PythonDataScienceHandbook/)\n",
        "- [Python Programming for Economics and Finance](https://python-programming.quantecon.org/intro.html)\n",
        "\n",
        "## 分析工具：Python\n",
        "\n",
        "我们使用Python作为主要的分析工具。根据[TIOBE Index](https://www.tiobe.com/tiobe-index/)，Python是目前最流行的编程语言。\n",
        "\n",
        "![TIOBE Programming Community Index](figures/languages_ranking.png){width=95%}\n",
        "\n",
        "### 功能强大，应用广泛\n",
        "\n",
        "Python广泛应用于机器学习、科学计算等各个领域：\n",
        "\n",
        "1. 机器学习\n",
        "2. 数据科学\n",
        "3. 通讯\n",
        "4. 网页开发\n",
        "5. CGI and GUI\n",
        "6. 自然语言处理\n",
        "7. 游戏开发\n",
        "10. 等等\n",
        "\n",
        "### Python的特点\n",
        "\n",
        "Python具有许多优点：\n",
        "\n",
        "1. 易读、易写和易调试；\n",
        "2. 核心内容易学；\n",
        "3. 众多库的支持；\n",
        "4. 初学者友好\n",
        "5. 支持多平台\n",
        "6. 网络资源众多\n",
        "\n",
        "## 安装Python\n",
        "\n",
        "### 下载安装Python\n",
        "\n",
        "1. 自[官方网站](https://www.python.org/downloads/)下载Python，当前版本3.13.5\n",
        "2. 在点击“Install Now”安装程序之前，Windows系统**注意**勾选：Add Python to PATH，将Python的安装路径添加到操作系统的环境变量Path中；\n",
        "\n",
        "![将Python添加至环境](figures/ADD_TO_PATH.png){width=95%}\n",
        "\n",
        "3. 在“命令提示符”输入`python --version`查看安装版本。\n",
        "\n",
        "4. 安装[JupyterLab](https://jupyterlab.readthedocs.io/en/stable/getting_started/installation.html)。通过命令提示符（或Mac OS的终端）安装：`pip install jupyterlab`。另外，需要经常使用pip安装，建议配置镜像源为[清华大学开源软件镜像站](https://mirrors.tuna.tsinghua.edu.cn/help/pypi/)。\n",
        "5. 推荐安装[Visual Code Studio](https://code.visualstudio.com/download)，然后在扩展（Extensions Marketplace）搜索安装：\n",
        "- Python \n",
        "- Jupyter\n",
        "- Quarto\n",
        "1. 如果只使用JupyterLab，在命令提示符输入`jupyter lab`即可启动；\n",
        "2. 另外，安装[Anaconda](https://www.anaconda.com/download/)也是非常常见的方式，会同时方便的安装常用Python程序包。\n",
        "3. 需要安装第三方程序包时，在命令提示符使用pip安装，例如：\n",
        "- Numpy: `pip install numpy`\n",
        "- Pandas: `pip install pandas`\n",
        "- Matplotlib: `pip install matplotlib`\n",
        "\n",
        "## 脚本模式和交互模式\n",
        "\n",
        "### 交互式\n",
        "\n",
        "用户输入代码，回车运行。在如IDLE，Ipython都可以方便地进行交互式操作。例如：\n",
        "\n",
        "  - 在命令提示符输入`ipython`，将打开Ipython的界面，输入`3 + 3`，回车，将显示计算结果；\n",
        "  - 在应用程序中打开 IDLE Shell，也可以方便的进行交互式操作；\n",
        "  - 在Jupyter Notebook的代码单元格内，输入代码，点击运行显示结果；\n",
        "  \n",
        "### 脚本模式\n",
        "将代码保存在.py格式文件中，使用命令提示符运行；\n",
        "\n",
        "例如，在文件夹pyfiles中保存有一个文件，存储了下面绘制圆形柱状图的代码。在命令提示符或终端中运行：\n",
        "\n",
        "`python pyfiles/polar_plot.py`\n",
        "\n",
        "当然，也可以先改变当前文件夹至pyfiles文件夹，就可以省略路径。\n",
        "### Jupyter notebook兼有\n",
        "\n",
        "在Jupyter Notebook中试验是否成功安装，打开链接中的例子，将代码复制到一个单元格中，绘制一个[圆形柱状图](https://matplotlib.org/3.1.1/gallery/pie_and_polar_charts/polar_bar.html)："
      ]
    },
    {
      "cell_type": "code",
      "metadata": {},
      "source": [
        "import numpy as np\n",
        "import matplotlib.pyplot as plt\n",
        "\n",
        "\n",
        "# Fixing random state for reproducibility\n",
        "np.random.seed(19680801)\n",
        "\n",
        "# Compute pie slices\n",
        "N = 20\n",
        "theta = np.linspace(0.0, 2 * np.pi, N, endpoint=False)\n",
        "radii = 10 * np.random.rand(N)\n",
        "width = np.pi / 4 * np.random.rand(N)\n",
        "colors = plt.cm.viridis(radii / 10.)\n",
        "\n",
        "ax = plt.subplot(111, projection='polar')\n",
        "ax.bar(theta, radii, width=width, bottom=0.0, color=colors, alpha=0.5)\n",
        "\n",
        "plt.show()"
      ],
      "execution_count": null,
      "outputs": []
    },
    {
      "cell_type": "markdown",
      "metadata": {},
      "source": [
        "Jupyter Notebook 延续了ipython中的`%run`命令，可以脚本模式运行："
      ]
    },
    {
      "cell_type": "code",
      "metadata": {},
      "source": [
        "%run pyfiles/polar_plot.py"
      ],
      "execution_count": null,
      "outputs": []
    },
    {
      "cell_type": "markdown",
      "metadata": {},
      "source": [
        "## 文档与帮助\n",
        "\n",
        "### `help()` 和`?`\n",
        "Python有非常详细的官方[帮助文档](https://docs.python.org/zh-cn/3.13/)，帮助新用户快速的熟悉其用法。\n",
        "\n",
        "例如，Python有一个内置函数`help()`，可以查看定义的文档，例如对函数`len()`："
      ]
    },
    {
      "cell_type": "code",
      "metadata": {},
      "source": [
        "help(len)"
      ],
      "execution_count": null,
      "outputs": []
    },
    {
      "cell_type": "markdown",
      "metadata": {},
      "source": [
        "由于其重要性，Ipython和Jupyter中可以使用`?`作为缩写："
      ]
    },
    {
      "cell_type": "code",
      "metadata": {},
      "source": [
        "len?"
      ],
      "execution_count": null,
      "outputs": []
    },
    {
      "cell_type": "markdown",
      "metadata": {},
      "source": [
        "当然，对自定义的对象也是适用的。下面定义的函数，有一段函数的说明文字（docstring）："
      ]
    },
    {
      "cell_type": "code",
      "metadata": {},
      "source": [
        "def square(x):\n",
        "    \"\"\"\n",
        "    Calculates the square of a given number.\n",
        "\n",
        "    Args:\n",
        "        x (int or float): The number to be squared.\n",
        "\n",
        "    Returns:\n",
        "        int or float: The square of the input number.\n",
        "    \"\"\"\n",
        "    return x**2"
      ],
      "execution_count": null,
      "outputs": []
    },
    {
      "cell_type": "markdown",
      "metadata": {},
      "source": [
        "如果输入`help()`函数："
      ]
    },
    {
      "cell_type": "code",
      "metadata": {},
      "source": [
        "help(square)"
      ],
      "execution_count": null,
      "outputs": []
    }
  ],
  "metadata": {
    "kernelspec": {
      "name": "python3",
      "language": "python",
      "display_name": "Python 3 (ipykernel)",
      "path": "/Users/admin/Desktop/quarto/EconomicAnalysis/eco/share/jupyter/kernels/python3"
    }
  },
  "nbformat": 4,
  "nbformat_minor": 4
}